{
 "cells": [
  {
   "cell_type": "markdown",
   "metadata": {},
   "source": [
    "# Kinsa Health Weather Data\n",
    "\n",
    "The purpose of this notebook is to extract the data that powers the **[Kinsa Health Weather Map](https://healthweather.us/)** for the United States. I first saw this map in an article titled \"[Restrictions Are Slowing Coronavirus Infections, New Data Suggest](https://www.nytimes.com/2020/03/30/health/coronavirus-restrictions-fevers.html?action=click&module=Spotlight&pgtype=Homepage)\" by the New York Times. \n"
   ]
  },
  {
   "cell_type": "markdown",
   "metadata": {
    "toc": true
   },
   "source": [
    "<h1>Table of Contents<span class=\"tocSkip\"></span></h1>\n",
    "<div class=\"toc\"><ul class=\"toc-item\"><li><span><a href=\"#Kinsa-Health-Weather-Data\" data-toc-modified-id=\"Kinsa-Health-Weather-Data-1\">Kinsa Health Weather Data</a></span><ul class=\"toc-item\"><li><span><a href=\"#Import-Python-Libraries\" data-toc-modified-id=\"Import-Python-Libraries-1.1\">Import Python Libraries</a></span><ul class=\"toc-item\"><li><span><a href=\"#The-Kinsa-Health-Weather-Map\" data-toc-modified-id=\"The-Kinsa-Health-Weather-Map-1.1.1\">The Kinsa Health Weather Map</a></span></li><li><span><a href=\"#NY-Times-artilce:-Restrictions-Are-Slowing-Coronavirus-Infections,-New-Data-Suggest\" data-toc-modified-id=\"NY-Times-artilce:-Restrictions-Are-Slowing-Coronavirus-Infections,-New-Data-Suggest-1.1.2\">NY Times artilce: Restrictions Are Slowing Coronavirus Infections, New Data Suggest</a></span></li></ul></li><li><span><a href=\"#Loop-through-US-States-and-collect-.json\" data-toc-modified-id=\"Loop-through-US-States-and-collect-.json-1.2\">Loop through US States and collect .json</a></span></li></ul></li><li><span><a href=\"#Output-the-data-to-Excel-and-CSV-files.\" data-toc-modified-id=\"Output-the-data-to-Excel-and-CSV-files.-2\">Output the data to Excel and CSV files.</a></span></li></ul></div>"
   ]
  },
  {
   "cell_type": "markdown",
   "metadata": {},
   "source": [
    "## Import Python Libraries"
   ]
  },
  {
   "cell_type": "code",
   "execution_count": 51,
   "metadata": {},
   "outputs": [],
   "source": [
    "from IPython.display import IFrame\n",
    "import us\n",
    "import pandas as pd\n",
    "import json\n",
    "import requests\n",
    "import time"
   ]
  },
  {
   "cell_type": "markdown",
   "metadata": {},
   "source": [
    "### The Kinsa Health Weather Map "
   ]
  },
  {
   "cell_type": "code",
   "execution_count": 6,
   "metadata": {},
   "outputs": [
    {
     "data": {
      "text/html": [
       "\n",
       "        <iframe\n",
       "            width=\"700\"\n",
       "            height=\"350\"\n",
       "            src=\"https://healthweather.us/\"\n",
       "            frameborder=\"0\"\n",
       "            allowfullscreen\n",
       "        ></iframe>\n",
       "        "
      ],
      "text/plain": [
       "<IPython.lib.display.IFrame at 0x7fc040bc5990>"
      ]
     },
     "execution_count": 6,
     "metadata": {},
     "output_type": "execute_result"
    }
   ],
   "source": [
    "IFrame(src='https://healthweather.us/', width=700, height=350)"
   ]
  },
  {
   "cell_type": "markdown",
   "metadata": {},
   "source": [
    "### NY Times artilce: Restrictions Are Slowing Coronavirus Infections, New Data Suggest "
   ]
  },
  {
   "cell_type": "code",
   "execution_count": 12,
   "metadata": {},
   "outputs": [
    {
     "data": {
      "text/html": [
       "\n",
       "        <iframe\n",
       "            width=\"700\"\n",
       "            height=\"300\"\n",
       "            src=\"https://www.nytimes.com/2020/03/30/health/coronavirus-restrictions-fevers.html\"\n",
       "            frameborder=\"0\"\n",
       "            allowfullscreen\n",
       "        ></iframe>\n",
       "        "
      ],
      "text/plain": [
       "<IPython.lib.display.IFrame at 0x7fc030544990>"
      ]
     },
     "execution_count": 12,
     "metadata": {},
     "output_type": "execute_result"
    }
   ],
   "source": [
    "IFrame(src='https://www.nytimes.com/2020/03/30/health/coronavirus-restrictions-fevers.html', width=700, height=300)"
   ]
  },
  {
   "cell_type": "markdown",
   "metadata": {},
   "source": [
    "## Loop through US States and collect .json"
   ]
  },
  {
   "cell_type": "code",
   "execution_count": 56,
   "metadata": {
    "scrolled": true
   },
   "outputs": [
    {
     "name": "stdout",
     "output_type": "stream",
     "text": [
      "https://static.kinsahealth.com/AL_data.json\n",
      "no kinda health data for state AK\n",
      "https://static.kinsahealth.com/AZ_data.json\n",
      "https://static.kinsahealth.com/AR_data.json\n",
      "https://static.kinsahealth.com/CA_data.json\n",
      "https://static.kinsahealth.com/CO_data.json\n",
      "https://static.kinsahealth.com/CT_data.json\n",
      "https://static.kinsahealth.com/DE_data.json\n",
      "https://static.kinsahealth.com/DC_data.json\n",
      "https://static.kinsahealth.com/FL_data.json\n",
      "https://static.kinsahealth.com/GA_data.json\n",
      "no kinda health data for state HI\n",
      "https://static.kinsahealth.com/ID_data.json\n",
      "https://static.kinsahealth.com/IL_data.json\n",
      "https://static.kinsahealth.com/IN_data.json\n",
      "https://static.kinsahealth.com/IA_data.json\n",
      "https://static.kinsahealth.com/KS_data.json\n",
      "https://static.kinsahealth.com/KY_data.json\n",
      "https://static.kinsahealth.com/LA_data.json\n",
      "https://static.kinsahealth.com/ME_data.json\n",
      "https://static.kinsahealth.com/MD_data.json\n",
      "https://static.kinsahealth.com/MA_data.json\n",
      "https://static.kinsahealth.com/MI_data.json\n",
      "https://static.kinsahealth.com/MN_data.json\n",
      "https://static.kinsahealth.com/MS_data.json\n",
      "https://static.kinsahealth.com/MO_data.json\n",
      "https://static.kinsahealth.com/MT_data.json\n",
      "https://static.kinsahealth.com/NE_data.json\n",
      "https://static.kinsahealth.com/NV_data.json\n",
      "https://static.kinsahealth.com/NH_data.json\n",
      "https://static.kinsahealth.com/NJ_data.json\n",
      "https://static.kinsahealth.com/NM_data.json\n",
      "https://static.kinsahealth.com/NY_data.json\n",
      "https://static.kinsahealth.com/NC_data.json\n",
      "https://static.kinsahealth.com/ND_data.json\n",
      "https://static.kinsahealth.com/OH_data.json\n",
      "https://static.kinsahealth.com/OK_data.json\n",
      "https://static.kinsahealth.com/OR_data.json\n",
      "https://static.kinsahealth.com/PA_data.json\n",
      "https://static.kinsahealth.com/RI_data.json\n",
      "https://static.kinsahealth.com/SC_data.json\n",
      "https://static.kinsahealth.com/SD_data.json\n",
      "https://static.kinsahealth.com/TN_data.json\n",
      "https://static.kinsahealth.com/TX_data.json\n",
      "https://static.kinsahealth.com/UT_data.json\n",
      "https://static.kinsahealth.com/VT_data.json\n",
      "https://static.kinsahealth.com/VA_data.json\n",
      "https://static.kinsahealth.com/WA_data.json\n",
      "https://static.kinsahealth.com/WV_data.json\n",
      "https://static.kinsahealth.com/WI_data.json\n",
      "https://static.kinsahealth.com/WY_data.json\n"
     ]
    }
   ],
   "source": [
    "df_list = []  # empty dataframe to collect state data \n",
    "\n",
    "for state in us.states.STATES:\n",
    "    if state.abbr in ['AK', 'HI']:\n",
    "        print(f'no kinsa health data for state {state.abbr}')\n",
    "    \n",
    "    else:\n",
    "        print(f'https://static.kinsahealth.com/{state.abbr}_data.json')\n",
    "        \n",
    "        r = requests.get(\n",
    "            f'https://static.kinsahealth.com/{state.abbr}_data.json'\n",
    "        )\n",
    "\n",
    "        data = r.json()\n",
    "\n",
    "        df = pd.DataFrame(data['data'], columns=data['columns'])\n",
    "\n",
    "        df_list.append(df)  # add state df to df_list\n",
    "\n",
    "        time.sleep(1)  # be nice :) \n",
    "    \n",
    "df = pd.concat(df_list, sort=True)"
   ]
  },
  {
   "cell_type": "code",
   "execution_count": 61,
   "metadata": {},
   "outputs": [],
   "source": [
    "# reorder columns\n",
    "\n",
    "df = df[[\n",
    "    'region_id',\n",
    "    'region_name',\n",
    "    'date', \n",
    "    'anomaly_diff',\n",
    "    'atypical_ili',\n",
    "    'forecast_expected',\n",
    "    'forecast_lower',\n",
    "    'forecast_upper', \n",
    "    'observed_ili',    \n",
    "]]"
   ]
  },
  {
   "cell_type": "markdown",
   "metadata": {},
   "source": [
    "# Output the data to Excel and CSV files. \n"
   ]
  },
  {
   "cell_type": "code",
   "execution_count": 63,
   "metadata": {},
   "outputs": [],
   "source": [
    "df.to_csv('data/kinsa_health_data.csv', index=False)\n",
    "\n",
    "df.to_excel(\n",
    "    \"data/kinsa_health_data.xlsx\",\n",
    "    sheet_name='kinsa_health_data',\n",
    ")  "
   ]
  }
 ],
 "metadata": {
  "kernelspec": {
   "display_name": "Python 3",
   "language": "python",
   "name": "python3"
  },
  "language_info": {
   "codemirror_mode": {
    "name": "ipython",
    "version": 3
   },
   "file_extension": ".py",
   "mimetype": "text/x-python",
   "name": "python",
   "nbconvert_exporter": "python",
   "pygments_lexer": "ipython3",
   "version": "3.7.4"
  },
  "toc": {
   "base_numbering": 1,
   "nav_menu": {},
   "number_sections": false,
   "sideBar": true,
   "skip_h1_title": false,
   "title_cell": "Table of Contents",
   "title_sidebar": "Contents",
   "toc_cell": true,
   "toc_position": {},
   "toc_section_display": true,
   "toc_window_display": true
  }
 },
 "nbformat": 4,
 "nbformat_minor": 2
}
